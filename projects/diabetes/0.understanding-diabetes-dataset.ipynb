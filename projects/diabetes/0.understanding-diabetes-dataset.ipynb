{
 "cells": [
  {
   "cell_type": "markdown",
   "metadata": {},
   "source": [
    "# Understanding diabetes dataset\n",
    "\n",
    "UCI ML Repository에서 다운로드한 [당뇨병 시계열 데이터](https://archive.ics.uci.edu/ml/datasets/Diabetes)에 대해 알아보자.\n",
    "\n",
    "아무런 베이스 지식이 없으니, 찬찬히 훑어보며 이해하는 것을 목표로 한다."
   ]
  },
  {
   "cell_type": "code",
   "execution_count": 1,
   "metadata": {
    "ExecuteTime": {
     "end_time": "2022-09-04T07:55:35.030917Z",
     "start_time": "2022-09-04T07:55:34.750048Z"
    }
   },
   "outputs": [],
   "source": [
    "import os\n",
    "from datetime import datetime as dt\n",
    "\n",
    "import pandas as pd\n",
    "import numpy as np"
   ]
  },
  {
   "cell_type": "code",
   "execution_count": 2,
   "metadata": {
    "ExecuteTime": {
     "end_time": "2022-09-04T07:55:35.035661Z",
     "start_time": "2022-09-04T07:55:35.033270Z"
    }
   },
   "outputs": [],
   "source": [
    "DATA_DIR = '../../data/diabetes/'\n",
    "store_dir = '../../data/diabetes-project/0.merge/'"
   ]
  },
  {
   "cell_type": "markdown",
   "metadata": {},
   "source": [
    "## 디렉토리 읽어보기"
   ]
  },
  {
   "cell_type": "code",
   "execution_count": 3,
   "metadata": {
    "ExecuteTime": {
     "end_time": "2022-09-04T07:55:35.049920Z",
     "start_time": "2022-09-04T07:55:35.039321Z"
    },
    "scrolled": true
   },
   "outputs": [
    {
     "data": {
      "text/plain": [
       "(73,\n",
       " ['README-DIABETES',\n",
       "  'data-31',\n",
       "  'data-36',\n",
       "  'data-09',\n",
       "  'data-07',\n",
       "  'data-38',\n",
       "  'data-53',\n",
       "  'data-54',\n",
       "  'data-62',\n",
       "  'data-65',\n",
       "  'data-06',\n",
       "  'data-39',\n",
       "  'data-01',\n",
       "  'data-37',\n",
       "  'data-08',\n",
       "  'data-30',\n",
       "  'data-64',\n",
       "  'data-63',\n",
       "  'data-55',\n",
       "  'data-52',\n",
       "  'data-70',\n",
       "  'data-48',\n",
       "  'data-41',\n",
       "  'data-46',\n",
       "  'data-12',\n",
       "  'data-15',\n",
       "  'data-23',\n",
       "  'data-24',\n",
       "  'data-47',\n",
       "  'data-40',\n",
       "  'data-49',\n",
       "  'data-25',\n",
       "  'data-22',\n",
       "  'data-14',\n",
       "  'data-13',\n",
       "  'data-68',\n",
       "  'data-57',\n",
       "  'Data-Codes',\n",
       "  'data-50',\n",
       "  'data-59',\n",
       "  'data-66',\n",
       "  'data-61',\n",
       "  'data-35',\n",
       "  'data-32',\n",
       "  'data-04',\n",
       "  'data-03',\n",
       "  'data-60',\n",
       "  'data-58',\n",
       "  'data-67',\n",
       "  'data-51',\n",
       "  'data-69',\n",
       "  'data-56',\n",
       "  'data-02',\n",
       "  'data-05',\n",
       "  'data-33',\n",
       "  'data-34',\n",
       "  'data-29',\n",
       "  'data-16',\n",
       "  'data-11',\n",
       "  'data-18',\n",
       "  'data-27',\n",
       "  'data-20',\n",
       "  'data-45',\n",
       "  'Domain-Description',\n",
       "  'data-42',\n",
       "  'data-21',\n",
       "  'data-19',\n",
       "  'data-26',\n",
       "  'data-10',\n",
       "  'data-28',\n",
       "  'data-17',\n",
       "  'data-43',\n",
       "  'data-44'])"
      ]
     },
     "execution_count": 3,
     "metadata": {},
     "output_type": "execute_result"
    }
   ],
   "source": [
    "len(os.listdir(DATA_DIR)), os.listdir(DATA_DIR)"
   ]
  },
  {
   "cell_type": "markdown",
   "metadata": {},
   "source": [
    "총 파일 개수는 73개이며, `README-DIABETES`, `Data-Codes`, `Domain-Description` 세 파일을 제외하고는 `data-[n]` 형식으로 이루어짐. 세 종류의 메타 데이터를 읽어보고, 나머지 데이터를 확인할 것"
   ]
  },
  {
   "cell_type": "markdown",
   "metadata": {},
   "source": [
    "### `README-DIABETES`\n",
    "\n",
    "가장 먼저 README를 읽어 데이터 정보를 확인해보자"
   ]
  },
  {
   "cell_type": "code",
   "execution_count": 4,
   "metadata": {
    "ExecuteTime": {
     "end_time": "2022-09-04T07:55:35.056965Z",
     "start_time": "2022-09-04T07:55:35.051957Z"
    },
    "scrolled": true
   },
   "outputs": [
    {
     "name": "stdout",
     "output_type": "stream",
     "text": [
      "The DIABETES data sets in this directory are provided for use in 1994 \n",
      "AI in Medicine symposium submissions.  Permission is granted to use the\n",
      "data sets for other research purposes as long as appropriate credit is\n",
      "given as to the source (AIM-94 data set provided by Michael Kahn, MD, PhD, \n",
      "Washington University, St. Louis, MO).\n",
      "\n",
      "\n",
      "Index:\n",
      "------\n",
      "\n",
      "* Data-Codes: a listing of the codes used in the data sets.\n",
      "\n",
      "* Domain-Description: This file describes the basic physiology and patho-\n",
      "physiology of diabetes mellitus and its treatment.\n",
      "\n",
      "* data-[01-70]: data sets covering several weeks' to months' worth of\n",
      "outpatient care on 70 patients.  An additional 10 sets will be made\n",
      "available two weeks prior to the symposium for interested parties.  Please\n",
      "contact the organizers if you would like to obtain these data sets.\n",
      "\n",
      "\n",
      "Methods:\n",
      "--------\n",
      "\n",
      "You do not need to use all the data in order to participate.  Use any \n",
      "subset of the available data from either the ICU data set or the diabetes \n",
      "data set.  Furthermore, do not feel constrained if your methods cannot \n",
      "be applied directly to these data sets.  We will consider submissions\n",
      "on related (i.e., clinical data interpretation) topics.  If in doubt,\n",
      "consult with us via e-mail at <aim-94@camis.stanford.edu>.\n",
      "\n",
      "\n",
      "The 'Matchmaker' Service:\n",
      "-------------------------\n",
      "\n",
      "We realize that an accurate interpretation of clinical data requires \n",
      "a thorough understanding of the physiological principles and clinical \n",
      "issues involved.  We also realize that many AIM researchers do not \n",
      "have convenient access to medical expertise, and that a symposium \n",
      "focusing on a clinical theme may catch several parties at a disadvantage.  \n",
      "Conversely, some clinical researchers may be interested in participating \n",
      "but may not have collaborators on the computer science end of the field.  \n",
      "To offset such disadvantages, we will provide a simple 'Matchmaker' \n",
      "service for AIM-94.  The purpose of this service is to establish a medium \n",
      "by which researchers can seek collaborators of complementary background \n",
      "and interests for AIM-94 participation and beyond.\n",
      "\n",
      "If you are interested in participating in this program, send a\n",
      "one-paragraph description of your background, research interests, and the\n",
      "type of collaboration you are pursuing to <aim-94@camis.stanford.edu> by\n",
      "September 20th.  We will collate these entries and distribute the whole\n",
      "list to all participants of the program.  It will be the participants' \n",
      "responsibility to contact others to discuss and establish collaborative \n",
      "efforts; AIM-94 organizers will solely act as mediators.\n",
      "\n",
      "\n"
     ]
    }
   ],
   "source": [
    "with open(os.path.join(DATA_DIR, 'README-DIABETES'), 'r') as f:\n",
    "    readme = f.readlines()\n",
    "    \n",
    "print(''.join(readme))"
   ]
  },
  {
   "cell_type": "markdown",
   "metadata": {},
   "source": [
    "얻을 수 있는 데이터 정보\n",
    "\n",
    " * Data-Codes: 코드의 목록\n",
    " * Domain-Description: 당뇨병의 기본적인 병리, 생리와 치료에 대해 설명하는 파일\n",
    " * data-[0-70]: 70명의 환자에 대한 외래 진료를 담은 몇 주에서 몇 달 동안의 데이터 세트."
   ]
  },
  {
   "cell_type": "markdown",
   "metadata": {},
   "source": [
    "### `Data-Codes`"
   ]
  },
  {
   "cell_type": "code",
   "execution_count": 5,
   "metadata": {
    "ExecuteTime": {
     "end_time": "2022-09-04T07:55:35.064094Z",
     "start_time": "2022-09-04T07:55:35.059056Z"
    },
    "scrolled": true
   },
   "outputs": [
    {
     "name": "stdout",
     "output_type": "stream",
     "text": [
      "Diabetes patient records were obtained from two sources:  an automatic\n",
      "electronic recording device and paper records.  The automatic device\n",
      "had an internal clock to timestamp events, whereas the paper records\n",
      "only provided \"logical time\" slots (breakfast, lunch, dinner,\n",
      "bedtime).  For paper records, fixed times were assigned to breakfast\n",
      "(08:00), lunch (12:00), dinner (18:00), and bedtime (22:00).  Thus\n",
      "paper records have fictitious uniform recording times whereas\n",
      "electronic records have more realistic time stamps.\n",
      "\n",
      "Diabetes files consist of four fields per record.  Each field is\n",
      "separated by a tab and each record is separated by a newline.\n",
      "\n",
      "File Names and format:\n",
      "(1) Date in MM-DD-YYYY format\n",
      "(2) Time in XX:YY format\n",
      "(3) Code\n",
      "(4) Value\n",
      "\n",
      "The Code field is deciphered as follows:\n",
      "\n",
      "33 = Regular insulin dose\n",
      "34 = NPH insulin dose\n",
      "35 = UltraLente insulin dose\n",
      "48 = Unspecified blood glucose measurement\n",
      "57 = Unspecified blood glucose measurement\n",
      "58 = Pre-breakfast blood glucose measurement\n",
      "59 = Post-breakfast blood glucose measurement\n",
      "60 = Pre-lunch blood glucose measurement\n",
      "61 = Post-lunch blood glucose measurement\n",
      "62 = Pre-supper blood glucose measurement\n",
      "63 = Post-supper blood glucose measurement\n",
      "64 = Pre-snack blood glucose measurement\n",
      "65 = Hypoglycemic symptoms\n",
      "66 = Typical meal ingestion\n",
      "67 = More-than-usual meal ingestion\n",
      "68 = Less-than-usual meal ingestion\n",
      "69 = Typical exercise activity\n",
      "70 = More-than-usual exercise activity\n",
      "71 = Less-than-usual exercise activity\n",
      "72 = Unspecified special event\n",
      "\n",
      "\n",
      "Questions regarding the format of the diabetes data files can be sent\n",
      "to kahn@informatics.WUSTL.EDU (Internet) or 70333,34 (CompuServe).  Be\n",
      "forwarned, I'm not very good at remembering to check Compuserve.\n",
      "\n"
     ]
    }
   ],
   "source": [
    "with open(os.path.join(DATA_DIR, 'Data-Codes'), 'r') as f:\n",
    "    data_codes = f.readlines()\n",
    "    \n",
    "print(''.join(data_codes))"
   ]
  },
  {
   "cell_type": "markdown",
   "metadata": {},
   "source": [
    "데이터는 두 가지 방식을 통해 얻어짐\n",
    "\n",
    " * automatic electronic recording device: 측정 시간이 비교적 정확하게 기록됨.\n",
    " * paper record: 아침, 점심, 저녁, 자기전의 논리적 시간으로 기록되어, 이 데이터들은 08:00, 12:00, 18:00, 22:00 으로 변환함. 좀 더 부정확하다고 할 수 있음.\n",
    " \n",
    "각 데이터는 4개의 field에 대해 레코드가 기록됨. 각 레코드 정보는 아래와 같음.\n",
    "\n",
    "File Names and format:\n",
    " * (1) Date in MM-DD-YYYY format\n",
    " * (2) Time in XX:YY format\n",
    " * (3) Code\n",
    " * (4) Value\n",
    "\n",
    "코드 정보는 아래 dictionary에 저장함"
   ]
  },
  {
   "cell_type": "code",
   "execution_count": 6,
   "metadata": {
    "ExecuteTime": {
     "end_time": "2022-09-04T07:55:35.074215Z",
     "start_time": "2022-09-04T07:55:35.066481Z"
    },
    "scrolled": true
   },
   "outputs": [
    {
     "data": {
      "text/plain": [
       "'Regular insulin dose'"
      ]
     },
     "execution_count": 6,
     "metadata": {},
     "output_type": "execute_result"
    }
   ],
   "source": [
    "code_dict = dict()\n",
    "\n",
    "for line in data_codes[20:-5]:\n",
    "    code, descrb = line.rstrip().split(' = ')\n",
    "    code_dict[int(code)] = descrb\n",
    "\n",
    "code_dict[33]"
   ]
  },
  {
   "cell_type": "markdown",
   "metadata": {},
   "source": [
    "### `Domain-Description`"
   ]
  },
  {
   "cell_type": "code",
   "execution_count": 7,
   "metadata": {
    "ExecuteTime": {
     "end_time": "2022-09-04T07:55:35.086124Z",
     "start_time": "2022-09-04T07:55:35.079882Z"
    }
   },
   "outputs": [
    {
     "name": "stdout",
     "output_type": "stream",
     "text": [
      "A Non-technical Description of Key Concepts in Outpatient Monitoring\n",
      "and Management of Insulin Dependent Diabetes Mellitus (IDDM) for the\n",
      "AAAI Spring Symposium on Intepreting Clinical Data.\n",
      "\n",
      "\n",
      "The following text is provided to orient you to the the diabetes data\n",
      "set. It is meant as a quick introduction to the pertinent issues in\n",
      "this domain for potential participants of the AAAI Spring Symposium on\n",
      "Interpreting Clinical Data.  However, it is not meant to be a rigorous\n",
      "or comprehensive review of the subject.\n",
      "\n",
      "Isaac  Kohane, AIM-94 Co-Chair\n",
      "8/27/1993\n",
      "aim-94@camis.stanford.edu\n",
      "\n",
      "------------------------------------------------------------------------\n",
      "\n",
      "Patients with IDDM are insulin deficient. This can either be due to a)\n",
      "low or absent production of insulin by the beta islet cells of the\n",
      "pancreas subsequent to an auto-immune attack or b) insulin-resistance,\n",
      "typically associated with older age and obesity, which leads to a\n",
      "relative insulin-deficiency even though the insulin levels might be\n",
      "normal.\n",
      "\n",
      "Regardless of cause, the lack of adequate insulin effect has multiple\n",
      "metabolic effects. However, once a patient is diagnosed and is\n",
      "receiving regularly scheduled exogenous (externally administered)\n",
      "insulin, the principal metabolic effect of concern is the potential\n",
      "for hyperglycemia (high blood glucose). Chronic hyperglycemia over a\n",
      "period of several years puts a patient at risk for several kinds of\n",
      "micro and macrovascular problems (e.g. retinopathy). Consequently, the\n",
      "goal of therapy for IDDM is to bring the average blood glucose as close\n",
      "to the normal range as possible. As explained below, current therapy\n",
      "makes this goal a very challenging (and often frustrating) one for\n",
      "most patients. One important consideration is that due to the\n",
      "inevitable variation of blood glucose (BG) around the mean, a lower mean\n",
      "will result in a higher frequency of unpleasant and sometimes\n",
      "dangerous low BG levels.\n",
      "\n",
      "\n",
      "Outpatient management.\n",
      "\n",
      "Outpatient management of IDDM relies principally on three\n",
      "interventions: diet, excercise and exogenous insulin. Proper treatment\n",
      "requires careful consideration of all three interventions. \n",
      "\n",
      "INSULIN\n",
      "\n",
      "One of insulin's principal effects is to increase the uptake of\n",
      "glucose in many of the tissues (e.g. in adipose/fat tissue) and\n",
      "thereby reduce the concentration glucose in blood.  Patients\n",
      "with IDDM administer insulin to themselves by subcutaneous injection.\n",
      "Insulin doses are given one or more times a day, typically before\n",
      "meals and sometimes also at bedtime. Many insulin regimens are devised\n",
      "to have the peak insulin action coincide with the peak rise in BG\n",
      "during meals. In order to achieve this, a combination of several\n",
      "preparations of insulin may be administered. Each insulin formulation\n",
      "has its own characteristic time of onset of effect (O), time of peak\n",
      "action (P) and effective duration (D). These times can be significantly\n",
      "affected by many factors such as the site of injection (e.g. much more\n",
      "rapid absorption in the abdomen than in the thigh) or whether the\n",
      "insulin is a human insulin or an animal extract. The times I have\n",
      "listed below are rough approximations and I am sure that I could find\n",
      "an endocrinologist with different estimates.\n",
      "\n",
      "Regular Insulin: O 15-45 minutes P 1-3 hours D 4-6 hours\n",
      "NPH Insulin: O 1-3 hours P 4-6 hours D: 10-14 hours\n",
      "Ultralente: O: 2-5 hours. P (not much of a peak) D 24-30 hours.\n",
      "\n",
      "EXERCISE\n",
      "\n",
      "Exercise appears to have multiple effects on BG control. Two important\n",
      "effects are: increased caloric expenditure and a possibly independent\n",
      "increase in the sensitivity of tissues to insulin action.  BG can fall\n",
      "during exercise but also quite a few hours afterwards. For instance,\n",
      "strenuous exercise in the mid-afternoon can be associated with low BG\n",
      "after dinner. Also, too strenuous exercise with associated mild\n",
      "dehydration can lead to a transient increase in BG.\n",
      "\n",
      "DIET\n",
      "\n",
      "Another vast subject but (suffice it to say for the purposes of users\n",
      "of the data set) in brief: a larger meal will lead to a longer and\n",
      "possibly higher elevation of blood glucose. The actual effect depends on\n",
      "a host of variables, notably the kind of food ingested. For instance,\n",
      "fat causes delayed emptying of the stomach and therefore a slower rise in BG\n",
      "than a starchy meal without fat. Missing a meal or eating a meal of smaller\n",
      "than usual size will put the patient at risk for low BG in the hours that follow\n",
      "the meal.\n",
      "\n",
      "\n",
      "GLUCOSE CONCENTRATIONS\n",
      "\n",
      "BG concentration will vary even in individuals with normal pancreatic\n",
      "hormonal function.  A normal pre-meal BG ranges approximately 80-120 mg/dl. \n",
      "A normal post-meal BG ranges 80-140 mg/dl. The target range for an individual \n",
      "with diabetes mellitus is very controversial. I will cut the Gordian knot on \n",
      "this issue by noting that it would be very desirable to keep 90% of all BG \n",
      "measurements < 200 mg/dl and that the average BG should be 150 mg/dl or less. \n",
      "Note that it  takes a lot of work, attention and (painful) BG checks to reach \n",
      "this target range. Conversely, an average BG > 200 (over several years) is \n",
      "associated with a poor long-term outcome. That is, the risk of vascular \n",
      "complications of the high BG is signicantly elevated.\n",
      "\n",
      "Hypoglycemic (low BG) symptoms fall into two classes. Between 40-80 mg/dl,\n",
      "the patient feels the effect off the adrenal hormone epinephrine as the BG\n",
      "regulation systems attempt to reverse the low BG.  These so-called \n",
      "adrenergic symptoms (headache, abdominal pain, sweating) are useful, if\n",
      "unpleasant, cues to the patient that their BG is falling dangerously. Below\n",
      "40 mg/dl, the patient's brain is inadequately supplied with glucose and\n",
      "the symptoms become those of poor brain function (neuroglycopenic\n",
      "symptoms). These include: lethargy, weakness, disorientation, seizures and\n",
      "passing out.  \n",
      "\n",
      "OTHER SOURCES OF INFORMATION\n",
      "\n",
      "If you want to learn more about the outpatient treatment of IDDM, most\n",
      "of the standard medical or endocrinological textbooks have large\n",
      "sections on this subject. Alternatively, the local chapters of the\n",
      "Juvenile Diabetes Foundation and American Diabetes Association may be\n",
      "able to provide you with some helpful practical information. Finally,\n",
      "feel free to send e-mail to aim-94@camis.stanford.edu. One of the program\n",
      "committee members is an endocrinologist and will be pleased to answer\n",
      "technical/medical questions.\n",
      "\n",
      "\n",
      "\n"
     ]
    }
   ],
   "source": [
    "with open(os.path.join(DATA_DIR, 'Domain-Description'), 'r') as f:\n",
    "    domain = f.readlines()\n",
    "    \n",
    "print(''.join(domain))"
   ]
  },
  {
   "cell_type": "markdown",
   "metadata": {},
   "source": [
    "인술린 의존성 당뇨병(제 1형 당뇨병) 환자는 인슐린이 결핍됨. a) 자가면역에 의해 인슐린 생산이 줄거나 없는 이유  또는 b) 나이가 들거나 비만에 의해서 인슐린 저항성이 증가하는 이유로 인해 발생함. 원인과는 상관없이, IDDM은 대사 문제를 일으킴...\n",
    "\n",
    "등의 당뇨병에 대한 간단한 설명"
   ]
  },
  {
   "cell_type": "markdown",
   "metadata": {},
   "source": [
    "### `data-[01-70]`"
   ]
  },
  {
   "cell_type": "code",
   "execution_count": 8,
   "metadata": {
    "ExecuteTime": {
     "end_time": "2022-09-04T07:55:35.109870Z",
     "start_time": "2022-09-04T07:55:35.089038Z"
    }
   },
   "outputs": [
    {
     "name": "stdout",
     "output_type": "stream",
     "text": [
      "(943, 4)\n"
     ]
    },
    {
     "data": {
      "text/html": [
       "<div>\n",
       "<style scoped>\n",
       "    .dataframe tbody tr th:only-of-type {\n",
       "        vertical-align: middle;\n",
       "    }\n",
       "\n",
       "    .dataframe tbody tr th {\n",
       "        vertical-align: top;\n",
       "    }\n",
       "\n",
       "    .dataframe thead th {\n",
       "        text-align: right;\n",
       "    }\n",
       "</style>\n",
       "<table border=\"1\" class=\"dataframe\">\n",
       "  <thead>\n",
       "    <tr style=\"text-align: right;\">\n",
       "      <th></th>\n",
       "      <th>date</th>\n",
       "      <th>time</th>\n",
       "      <th>code</th>\n",
       "      <th>value</th>\n",
       "    </tr>\n",
       "  </thead>\n",
       "  <tbody>\n",
       "    <tr>\n",
       "      <th>0</th>\n",
       "      <td>04-21-1991</td>\n",
       "      <td>9:09</td>\n",
       "      <td>58</td>\n",
       "      <td>100</td>\n",
       "    </tr>\n",
       "    <tr>\n",
       "      <th>1</th>\n",
       "      <td>04-21-1991</td>\n",
       "      <td>9:09</td>\n",
       "      <td>33</td>\n",
       "      <td>9</td>\n",
       "    </tr>\n",
       "    <tr>\n",
       "      <th>2</th>\n",
       "      <td>04-21-1991</td>\n",
       "      <td>9:09</td>\n",
       "      <td>34</td>\n",
       "      <td>13</td>\n",
       "    </tr>\n",
       "    <tr>\n",
       "      <th>3</th>\n",
       "      <td>04-21-1991</td>\n",
       "      <td>17:08</td>\n",
       "      <td>62</td>\n",
       "      <td>119</td>\n",
       "    </tr>\n",
       "    <tr>\n",
       "      <th>4</th>\n",
       "      <td>04-21-1991</td>\n",
       "      <td>17:08</td>\n",
       "      <td>33</td>\n",
       "      <td>7</td>\n",
       "    </tr>\n",
       "  </tbody>\n",
       "</table>\n",
       "</div>"
      ],
      "text/plain": [
       "         date   time  code  value\n",
       "0  04-21-1991   9:09    58    100\n",
       "1  04-21-1991   9:09    33      9\n",
       "2  04-21-1991   9:09    34     13\n",
       "3  04-21-1991  17:08    62    119\n",
       "4  04-21-1991  17:08    33      7"
      ]
     },
     "execution_count": 8,
     "metadata": {},
     "output_type": "execute_result"
    }
   ],
   "source": [
    "df_01 = pd.read_csv(os.path.join(DATA_DIR, 'data-01'), sep='\\t', header=None)\n",
    "df_01.columns = ['date', 'time', 'code', 'value']\n",
    "print(df_01.shape)\n",
    "df_01.head()"
   ]
  },
  {
   "cell_type": "code",
   "execution_count": 9,
   "metadata": {
    "ExecuteTime": {
     "end_time": "2022-09-04T07:55:35.145168Z",
     "start_time": "2022-09-04T07:55:35.119678Z"
    }
   },
   "outputs": [
    {
     "name": "stdout",
     "output_type": "stream",
     "text": [
      "(341, 4)\n"
     ]
    },
    {
     "data": {
      "text/html": [
       "<div>\n",
       "<style scoped>\n",
       "    .dataframe tbody tr th:only-of-type {\n",
       "        vertical-align: middle;\n",
       "    }\n",
       "\n",
       "    .dataframe tbody tr th {\n",
       "        vertical-align: top;\n",
       "    }\n",
       "\n",
       "    .dataframe thead th {\n",
       "        text-align: right;\n",
       "    }\n",
       "</style>\n",
       "<table border=\"1\" class=\"dataframe\">\n",
       "  <thead>\n",
       "    <tr style=\"text-align: right;\">\n",
       "      <th></th>\n",
       "      <th>date</th>\n",
       "      <th>time</th>\n",
       "      <th>code</th>\n",
       "      <th>value</th>\n",
       "    </tr>\n",
       "  </thead>\n",
       "  <tbody>\n",
       "    <tr>\n",
       "      <th>0</th>\n",
       "      <td>03-13-1989</td>\n",
       "      <td>08:00</td>\n",
       "      <td>58</td>\n",
       "      <td>354.0</td>\n",
       "    </tr>\n",
       "    <tr>\n",
       "      <th>1</th>\n",
       "      <td>03-13-1989</td>\n",
       "      <td>08:00</td>\n",
       "      <td>33</td>\n",
       "      <td>2.0</td>\n",
       "    </tr>\n",
       "    <tr>\n",
       "      <th>2</th>\n",
       "      <td>03-13-1989</td>\n",
       "      <td>08:00</td>\n",
       "      <td>34</td>\n",
       "      <td>8.0</td>\n",
       "    </tr>\n",
       "    <tr>\n",
       "      <th>3</th>\n",
       "      <td>03-13-1989</td>\n",
       "      <td>18:00</td>\n",
       "      <td>62</td>\n",
       "      <td>275.0</td>\n",
       "    </tr>\n",
       "    <tr>\n",
       "      <th>4</th>\n",
       "      <td>03-13-1989</td>\n",
       "      <td>18:00</td>\n",
       "      <td>33</td>\n",
       "      <td>1.0</td>\n",
       "    </tr>\n",
       "  </tbody>\n",
       "</table>\n",
       "</div>"
      ],
      "text/plain": [
       "         date   time  code  value\n",
       "0  03-13-1989  08:00    58  354.0\n",
       "1  03-13-1989  08:00    33    2.0\n",
       "2  03-13-1989  08:00    34    8.0\n",
       "3  03-13-1989  18:00    62  275.0\n",
       "4  03-13-1989  18:00    33    1.0"
      ]
     },
     "execution_count": 9,
     "metadata": {},
     "output_type": "execute_result"
    }
   ],
   "source": [
    "df_70 = pd.read_csv(os.path.join(DATA_DIR, 'data-70'), sep='\\t', header=None)\n",
    "df_70.columns = ['date', 'time', 'code', 'value']\n",
    "print(df_70.shape)\n",
    "df_70.head()"
   ]
  },
  {
   "cell_type": "markdown",
   "metadata": {},
   "source": [
    "첫번째 환자는 943개의 레코드를, 마지막 환자는 341개의 레코드를 가짐. 우선 모든 파일을 읽어 하나의 데이터 프레임으로 만들자"
   ]
  },
  {
   "cell_type": "code",
   "execution_count": 10,
   "metadata": {
    "ExecuteTime": {
     "end_time": "2022-09-04T07:55:35.159070Z",
     "start_time": "2022-09-04T07:55:35.148490Z"
    }
   },
   "outputs": [
    {
     "data": {
      "text/plain": [
       "0      01\n",
       "1      01\n",
       "2      01\n",
       "3      01\n",
       "4      01\n",
       "       ..\n",
       "938    01\n",
       "939    01\n",
       "940    01\n",
       "941    01\n",
       "942    01\n",
       "Name: pid, Length: 943, dtype: object"
      ]
     },
     "execution_count": 10,
     "metadata": {},
     "output_type": "execute_result"
    }
   ],
   "source": [
    "df_01.loc[:, 'pid'] = '01'\n",
    "df_01['pid']"
   ]
  },
  {
   "cell_type": "code",
   "execution_count": 11,
   "metadata": {
    "ExecuteTime": {
     "end_time": "2022-09-04T07:55:35.169464Z",
     "start_time": "2022-09-04T07:55:35.162070Z"
    }
   },
   "outputs": [
    {
     "data": {
      "text/plain": [
       "0      70\n",
       "1      70\n",
       "2      70\n",
       "3      70\n",
       "4      70\n",
       "       ..\n",
       "336    70\n",
       "337    70\n",
       "338    70\n",
       "339    70\n",
       "340    70\n",
       "Name: pid, Length: 341, dtype: object"
      ]
     },
     "execution_count": 11,
     "metadata": {},
     "output_type": "execute_result"
    }
   ],
   "source": [
    "df_70.loc[:, 'pid'] = '70'\n",
    "df_70['pid']"
   ]
  },
  {
   "cell_type": "code",
   "execution_count": 12,
   "metadata": {
    "ExecuteTime": {
     "end_time": "2022-09-04T07:55:35.183937Z",
     "start_time": "2022-09-04T07:55:35.173916Z"
    }
   },
   "outputs": [
    {
     "name": "stdout",
     "output_type": "stream",
     "text": [
      "(1284, 5)\n"
     ]
    },
    {
     "data": {
      "text/html": [
       "<div>\n",
       "<style scoped>\n",
       "    .dataframe tbody tr th:only-of-type {\n",
       "        vertical-align: middle;\n",
       "    }\n",
       "\n",
       "    .dataframe tbody tr th {\n",
       "        vertical-align: top;\n",
       "    }\n",
       "\n",
       "    .dataframe thead th {\n",
       "        text-align: right;\n",
       "    }\n",
       "</style>\n",
       "<table border=\"1\" class=\"dataframe\">\n",
       "  <thead>\n",
       "    <tr style=\"text-align: right;\">\n",
       "      <th></th>\n",
       "      <th>date</th>\n",
       "      <th>time</th>\n",
       "      <th>code</th>\n",
       "      <th>value</th>\n",
       "      <th>pid</th>\n",
       "    </tr>\n",
       "  </thead>\n",
       "  <tbody>\n",
       "    <tr>\n",
       "      <th>0</th>\n",
       "      <td>04-21-1991</td>\n",
       "      <td>9:09</td>\n",
       "      <td>58</td>\n",
       "      <td>100.0</td>\n",
       "      <td>01</td>\n",
       "    </tr>\n",
       "    <tr>\n",
       "      <th>1</th>\n",
       "      <td>04-21-1991</td>\n",
       "      <td>9:09</td>\n",
       "      <td>33</td>\n",
       "      <td>9.0</td>\n",
       "      <td>01</td>\n",
       "    </tr>\n",
       "    <tr>\n",
       "      <th>2</th>\n",
       "      <td>04-21-1991</td>\n",
       "      <td>9:09</td>\n",
       "      <td>34</td>\n",
       "      <td>13.0</td>\n",
       "      <td>01</td>\n",
       "    </tr>\n",
       "    <tr>\n",
       "      <th>3</th>\n",
       "      <td>04-21-1991</td>\n",
       "      <td>17:08</td>\n",
       "      <td>62</td>\n",
       "      <td>119.0</td>\n",
       "      <td>01</td>\n",
       "    </tr>\n",
       "    <tr>\n",
       "      <th>4</th>\n",
       "      <td>04-21-1991</td>\n",
       "      <td>17:08</td>\n",
       "      <td>33</td>\n",
       "      <td>7.0</td>\n",
       "      <td>01</td>\n",
       "    </tr>\n",
       "  </tbody>\n",
       "</table>\n",
       "</div>"
      ],
      "text/plain": [
       "         date   time  code  value pid\n",
       "0  04-21-1991   9:09    58  100.0  01\n",
       "1  04-21-1991   9:09    33    9.0  01\n",
       "2  04-21-1991   9:09    34   13.0  01\n",
       "3  04-21-1991  17:08    62  119.0  01\n",
       "4  04-21-1991  17:08    33    7.0  01"
      ]
     },
     "execution_count": 12,
     "metadata": {},
     "output_type": "execute_result"
    }
   ],
   "source": [
    "df_data = pd.concat([df_01, df_70], axis=0)\n",
    "print(df_data.shape)\n",
    "df_data.head()"
   ]
  },
  {
   "cell_type": "markdown",
   "metadata": {},
   "source": [
    "모든 데이터에 대해 위 같은 방식으로 병합하여 새로운 데이터 프레임으로 저장한다."
   ]
  },
  {
   "cell_type": "code",
   "execution_count": 13,
   "metadata": {
    "ExecuteTime": {
     "end_time": "2022-09-04T07:55:35.381811Z",
     "start_time": "2022-09-04T07:55:35.186212Z"
    }
   },
   "outputs": [
    {
     "data": {
      "text/plain": [
       "70"
      ]
     },
     "execution_count": 13,
     "metadata": {},
     "output_type": "execute_result"
    }
   ],
   "source": [
    "df_list = []\n",
    "\n",
    "for pid in range(1, 71):\n",
    "    \n",
    "    if pid <= 9:\n",
    "        pid = '0' + str(pid)\n",
    "    else:\n",
    "        pid = str(pid) \n",
    "        \n",
    "    df_tmp = pd.read_csv(os.path.join(DATA_DIR, f'data-{pid}'), sep='\\t', header=None)\n",
    "    df_tmp.columns = ['date', 'time', 'code', 'value']\n",
    "    df_tmp.loc[:, 'pid'] = pid\n",
    "    \n",
    "    df_list.append(df_tmp)\n",
    "\n",
    "len(df_list)"
   ]
  },
  {
   "cell_type": "code",
   "execution_count": 14,
   "metadata": {
    "ExecuteTime": {
     "end_time": "2022-09-04T07:55:35.403059Z",
     "start_time": "2022-09-04T07:55:35.383632Z"
    }
   },
   "outputs": [
    {
     "name": "stdout",
     "output_type": "stream",
     "text": [
      "(29330, 5)\n"
     ]
    },
    {
     "data": {
      "text/html": [
       "<div>\n",
       "<style scoped>\n",
       "    .dataframe tbody tr th:only-of-type {\n",
       "        vertical-align: middle;\n",
       "    }\n",
       "\n",
       "    .dataframe tbody tr th {\n",
       "        vertical-align: top;\n",
       "    }\n",
       "\n",
       "    .dataframe thead th {\n",
       "        text-align: right;\n",
       "    }\n",
       "</style>\n",
       "<table border=\"1\" class=\"dataframe\">\n",
       "  <thead>\n",
       "    <tr style=\"text-align: right;\">\n",
       "      <th></th>\n",
       "      <th>date</th>\n",
       "      <th>time</th>\n",
       "      <th>code</th>\n",
       "      <th>value</th>\n",
       "      <th>pid</th>\n",
       "    </tr>\n",
       "  </thead>\n",
       "  <tbody>\n",
       "    <tr>\n",
       "      <th>0</th>\n",
       "      <td>04-21-1991</td>\n",
       "      <td>9:09</td>\n",
       "      <td>58</td>\n",
       "      <td>100</td>\n",
       "      <td>01</td>\n",
       "    </tr>\n",
       "    <tr>\n",
       "      <th>1</th>\n",
       "      <td>04-21-1991</td>\n",
       "      <td>9:09</td>\n",
       "      <td>33</td>\n",
       "      <td>9</td>\n",
       "      <td>01</td>\n",
       "    </tr>\n",
       "    <tr>\n",
       "      <th>2</th>\n",
       "      <td>04-21-1991</td>\n",
       "      <td>9:09</td>\n",
       "      <td>34</td>\n",
       "      <td>13</td>\n",
       "      <td>01</td>\n",
       "    </tr>\n",
       "    <tr>\n",
       "      <th>3</th>\n",
       "      <td>04-21-1991</td>\n",
       "      <td>17:08</td>\n",
       "      <td>62</td>\n",
       "      <td>119</td>\n",
       "      <td>01</td>\n",
       "    </tr>\n",
       "    <tr>\n",
       "      <th>4</th>\n",
       "      <td>04-21-1991</td>\n",
       "      <td>17:08</td>\n",
       "      <td>33</td>\n",
       "      <td>7</td>\n",
       "      <td>01</td>\n",
       "    </tr>\n",
       "  </tbody>\n",
       "</table>\n",
       "</div>"
      ],
      "text/plain": [
       "         date   time  code value pid\n",
       "0  04-21-1991   9:09    58   100  01\n",
       "1  04-21-1991   9:09    33     9  01\n",
       "2  04-21-1991   9:09    34    13  01\n",
       "3  04-21-1991  17:08    62   119  01\n",
       "4  04-21-1991  17:08    33     7  01"
      ]
     },
     "execution_count": 14,
     "metadata": {},
     "output_type": "execute_result"
    }
   ],
   "source": [
    "df_data = pd.concat(df_list, axis=0)\n",
    "print(df_data.shape)\n",
    "df_data.head()"
   ]
  },
  {
   "cell_type": "markdown",
   "metadata": {},
   "source": [
    "## 데이터 저장"
   ]
  },
  {
   "cell_type": "code",
   "execution_count": 15,
   "metadata": {
    "ExecuteTime": {
     "end_time": "2022-09-04T07:55:35.415829Z",
     "start_time": "2022-09-04T07:55:35.405306Z"
    }
   },
   "outputs": [],
   "source": [
    "date = dt.strftime(dt.now(), '%y-%m-%d')\n",
    "df_data.to_pickle(os.path.join(store_dir, f'df_data_{date}.pkl'))"
   ]
  },
  {
   "cell_type": "code",
   "execution_count": 16,
   "metadata": {
    "ExecuteTime": {
     "end_time": "2022-09-04T07:55:35.422981Z",
     "start_time": "2022-09-04T07:55:35.418141Z"
    }
   },
   "outputs": [
    {
     "name": "stdout",
     "output_type": "stream",
     "text": [
      "Stored 'code_dict' (dict)\n"
     ]
    }
   ],
   "source": [
    "%store code_dict"
   ]
  }
 ],
 "metadata": {
  "kernelspec": {
   "display_name": "lstm-3.9",
   "language": "python",
   "name": "lstm"
  },
  "language_info": {
   "codemirror_mode": {
    "name": "ipython",
    "version": 3
   },
   "file_extension": ".py",
   "mimetype": "text/x-python",
   "name": "python",
   "nbconvert_exporter": "python",
   "pygments_lexer": "ipython3",
   "version": "3.9.0"
  }
 },
 "nbformat": 4,
 "nbformat_minor": 4
}
